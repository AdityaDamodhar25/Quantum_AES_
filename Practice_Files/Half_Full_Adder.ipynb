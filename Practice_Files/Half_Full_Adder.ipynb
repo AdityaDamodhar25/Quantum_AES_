{
 "cells": [
  {
   "cell_type": "code",
   "execution_count": 8,
   "id": "28247ab7",
   "metadata": {},
   "outputs": [],
   "source": [
    "from qiskit import QuantumCircuit, assemble, Aer\n",
    "from qiskit.visualization import plot_histogram"
   ]
  },
  {
   "cell_type": "code",
   "execution_count": 49,
   "id": "73942816",
   "metadata": {},
   "outputs": [
    {
     "data": {
      "text/html": [
       "<pre style=\"word-wrap: normal;white-space: pre;background: #fff0;line-height: 1.1;font-family: &quot;Courier New&quot;,Courier,monospace\">     ┌───┐ ░                 ░       \n",
       "q_0: ┤ X ├─░───■─────────■───░───────\n",
       "     ├───┤ ░   │         │   ░       \n",
       "q_1: ┤ X ├─░───┼────■────■───░───────\n",
       "     └───┘ ░ ┌─┴─┐┌─┴─┐  │   ░ ┌─┐   \n",
       "q_2: ──────░─┤ X ├┤ X ├──┼───░─┤M├───\n",
       "           ░ └───┘└───┘┌─┴─┐ ░ └╥┘┌─┐\n",
       "q_3: ──────░───────────┤ X ├─░──╫─┤M├\n",
       "           ░           └───┘ ░  ║ └╥┘\n",
       "c: 2/═══════════════════════════╩══╩═\n",
       "                                0  1 </pre>"
      ],
      "text/plain": [
       "     ┌───┐ ░                 ░       \n",
       "q_0: ┤ X ├─░───■─────────■───░───────\n",
       "     ├───┤ ░   │         │   ░       \n",
       "q_1: ┤ X ├─░───┼────■────■───░───────\n",
       "     └───┘ ░ ┌─┴─┐┌─┴─┐  │   ░ ┌─┐   \n",
       "q_2: ──────░─┤ X ├┤ X ├──┼───░─┤M├───\n",
       "           ░ └───┘└───┘┌─┴─┐ ░ └╥┘┌─┐\n",
       "q_3: ──────░───────────┤ X ├─░──╫─┤M├\n",
       "           ░           └───┘ ░  ║ └╥┘\n",
       "c: 2/═══════════════════════════╩══╩═\n",
       "                                0  1 "
      ]
     },
     "execution_count": 49,
     "metadata": {},
     "output_type": "execute_result"
    }
   ],
   "source": [
    "qc_ha = QuantumCircuit(4,2)\n",
    "qc_ha.x(0)\n",
    "qc_ha.x(1)\n",
    "qc_ha.barrier()\n",
    "#Flipping first two qubits\n",
    "\n",
    "qc_ha.cx(0,2)\n",
    "qc_ha.cx(1,2)\n",
    "#Sum\n",
    "\n",
    "qc_ha.ccx(0,1,3)\n",
    "qc_ha.barrier()\n",
    "#Carry\n",
    "\n",
    "qc_ha.measure(2,0)\n",
    "qc_ha.measure(3,1)\n",
    "qc_ha.draw()"
   ]
  },
  {
   "cell_type": "code",
   "execution_count": 50,
   "id": "640772ae",
   "metadata": {},
   "outputs": [
    {
     "data": {
      "image/png": "[encoded data removed]",
      "text/plain": [
       "<Figure size 700x500 with 1 Axes>"
      ]
     },
     "execution_count": 50,
     "metadata": {},
     "output_type": "execute_result"
    }
   ],
   "source": [
    "sim = Aer.get_backend('aer_simulator') \n",
    "result = sim.run(qc_ha).result()\n",
    "counts = result.get_counts()\n",
    "plot_histogram(counts)"
   ]
  },
  {
   "cell_type": "code",
   "execution_count": 70,
   "id": "3d33230b",
   "metadata": {},
   "outputs": [
    {
     "data": {
      "text/html": [
       "<pre style=\"word-wrap: normal;white-space: pre;background: #fff0;line-height: 1.1;font-family: &quot;Courier New&quot;,Courier,monospace\">     ┌───┐ ░                                               ░       \n",
       "q_0: ┤ X ├─░───■──────────────■──────────────■─────────────░───────\n",
       "     ├───┤ ░   │              │              │             ░       \n",
       "q_1: ┤ X ├─░───┼────■─────────■────■─────────┼─────────────░───────\n",
       "     ├───┤ ░   │    │         │    │         │             ░       \n",
       "q_2: ┤ X ├─░───┼────┼────■────┼────■─────────■─────────────░───────\n",
       "     └───┘ ░   │    │    │  ┌─┴─┐  │         │             ░       \n",
       "q_3: ──────░───┼────┼────┼──┤ X ├──┼────■────┼─────────────░───────\n",
       "           ░   │    │    │  └───┘┌─┴─┐  │    │             ░       \n",
       "q_4: ──────░───┼────┼────┼───────┤ X ├──┼────┼────■────────░───────\n",
       "           ░   │    │    │       └───┘  │  ┌─┴─┐  │        ░       \n",
       "q_5: ──────░───┼────┼────┼──────────────┼──┤ X ├──┼────■───░───────\n",
       "           ░ ┌─┴─┐┌─┴─┐┌─┴─┐            │  └───┘  │    │   ░ ┌─┐   \n",
       "q_6: ──────░─┤ X ├┤ X ├┤ X ├────────────┼─────────┼────┼───░─┤M├───\n",
       "           ░ └───┘└───┘└───┘          ┌─┴─┐     ┌─┴─┐┌─┴─┐ ░ └╥┘┌─┐\n",
       "q_7: ──────░──────────────────────────┤ X ├─────┤ X ├┤ X ├─░──╫─┤M├\n",
       "           ░                          └───┘     └───┘└───┘ ░  ║ └╥┘\n",
       "c: 2/═════════════════════════════════════════════════════════╩══╩═\n",
       "                                                              0  1 </pre>"
      ],
      "text/plain": [
       "     ┌───┐ ░                                               ░       \n",
       "q_0: ┤ X ├─░───■──────────────■──────────────■─────────────░───────\n",
       "     ├───┤ ░   │              │              │             ░       \n",
       "q_1: ┤ X ├─░───┼────■─────────■────■─────────┼─────────────░───────\n",
       "     ├───┤ ░   │    │         │    │         │             ░       \n",
       "q_2: ┤ X ├─░───┼────┼────■────┼────■─────────■─────────────░───────\n",
       "     └───┘ ░   │    │    │  ┌─┴─┐  │         │             ░       \n",
       "q_3: ──────░───┼────┼────┼──┤ X ├──┼────■────┼─────────────░───────\n",
       "           ░   │    │    │  └───┘┌─┴─┐  │    │             ░       \n",
       "q_4: ──────░───┼────┼────┼───────┤ X ├──┼────┼────■────────░───────\n",
       "           ░   │    │    │       └───┘  │  ┌─┴─┐  │        ░       \n",
       "q_5: ──────░───┼────┼────┼──────────────┼──┤ X ├──┼────■───░───────\n",
       "           ░ ┌─┴─┐┌─┴─┐┌─┴─┐            │  └───┘  │    │   ░ ┌─┐   \n",
       "q_6: ──────░─┤ X ├┤ X ├┤ X ├────────────┼─────────┼────┼───░─┤M├───\n",
       "           ░ └───┘└───┘└───┘          ┌─┴─┐     ┌─┴─┐┌─┴─┐ ░ └╥┘┌─┐\n",
       "q_7: ──────░──────────────────────────┤ X ├─────┤ X ├┤ X ├─░──╫─┤M├\n",
       "           ░                          └───┘     └───┘└───┘ ░  ║ └╥┘\n",
       "c: 2/═════════════════════════════════════════════════════════╩══╩═\n",
       "                                                              0  1 "
      ]
     },
     "execution_count": 70,
     "metadata": {},
     "output_type": "execute_result"
    }
   ],
   "source": [
    "qc_fa = QuantumCircuit(8,2)\n",
    "\n",
    "#Inputs\n",
    "qc_fa.x(0)\n",
    "qc_fa.x(1)\n",
    "qc_fa.x(2)\n",
    "qc_fa.barrier()\n",
    "\n",
    "#Sum\n",
    "qc_fa.cx(0,6)\n",
    "qc_fa.cx(1,6)\n",
    "qc_fa.cx(2,6)\n",
    "\n",
    "#AB\n",
    "qc_fa.ccx(0,1,3)\n",
    "\n",
    "#BC\n",
    "qc_fa.ccx(1,2,4)\n",
    "\n",
    "#CA\n",
    "qc_fa.ccx(2,0,5)\n",
    "\n",
    "#Carry\n",
    "qc_fa.cx(3,7)\n",
    "qc_fa.cx(4,7)\n",
    "qc_fa.cx(5,7)\n",
    "qc_fa.barrier()\n",
    "\n",
    "#Measure\n",
    "qc_fa.measure(6,0)\n",
    "qc_fa.measure(7,1)\n",
    "qc_fa.draw()"
   ]
  },
  {
   "cell_type": "code",
   "execution_count": 71,
   "id": "c74e8e73",
   "metadata": {},
   "outputs": [
    {
     "data": {
      "image/png": "[encoded data removed]",
      "text/plain": [
       "<Figure size 700x500 with 1 Axes>"
      ]
     },
     "execution_count": 71,
     "metadata": {},
     "output_type": "execute_result"
    }
   ],
   "source": [
    "sim = Aer.get_backend('aer_simulator') \n",
    "result = sim.run(qc_fa).result()\n",
    "counts = result.get_counts()\n",
    "plot_histogram(counts)"
   ]
  }
 ],
 "metadata": {
  "kernelspec": {
   "display_name": "Python 3 (ipykernel)",
   "language": "python",
   "name": "python3"
  },
  "language_info": {
   "codemirror_mode": {
    "name": "ipython",
    "version": 3
   },
   "file_extension": ".py",
   "mimetype": "text/x-python",
   "name": "python",
   "nbconvert_exporter": "python",
   "pygments_lexer": "ipython3",
   "version": "3.10.6"
  }
 },
 "nbformat": 4,
 "nbformat_minor": 5
}
